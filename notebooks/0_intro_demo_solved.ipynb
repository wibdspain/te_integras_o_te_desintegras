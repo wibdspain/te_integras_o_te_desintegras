{
 "cells": [
  {
   "cell_type": "markdown",
   "metadata": {},
   "source": [
    "# DEMO NOTEBOOK"
   ]
  },
  {
   "cell_type": "markdown",
   "metadata": {},
   "source": [
    "Jupyter Notebook es una aplicación web de código abierto que permite crear y compartir documentos que contienen\n",
    "código en vivo, ecuaciones, visualizaciones y texto narrativo. Lo usaremos para ejecutar código Python. \n",
    "\n",
    "Para ejecutar una celda, CTRL + ENTRAR cuando se selecciona. Otros accesos directos están disponibles en la pestaña Celda ..."
   ]
  },
  {
   "cell_type": "markdown",
   "metadata": {},
   "source": [
    "# Prerequisitos"
   ]
  },
  {
   "cell_type": "code",
   "execution_count": 1,
   "metadata": {},
   "outputs": [
    {
     "name": "stdout",
     "output_type": "stream",
     "text": [
      "Hello world !\n"
     ]
    }
   ],
   "source": [
    "# Intentamos retornar o devolver un mensaje\n",
    "\n",
    "print('Hello world !')"
   ]
  },
  {
   "cell_type": "markdown",
   "metadata": {},
   "source": [
    "### En esta parte, resolvemos ejercicios de Python muy simples para empezar.\n",
    "\n",
    "### Pregunta 1"
   ]
  },
  {
   "cell_type": "code",
   "execution_count": 2,
   "metadata": {},
   "outputs": [],
   "source": [
    "# Crea una función que devuelva la suma de dos valores\n",
    "\n",
    "def sum(a, b):\n",
    "    \"\"\"\n",
    "    Return a + b\n",
    "    \"\"\"\n",
    "    # YOUR CODE HERE\n",
    "    return a + b\n",
    "\n",
    "    raise NotImplementedError()"
   ]
  },
  {
   "cell_type": "code",
   "execution_count": 3,
   "metadata": {},
   "outputs": [],
   "source": [
    "\"\"\"\n",
    "Esta es una celda autogradada. Cuando se ejecuta esta celda con la implementación, no debería devolver ningún error. \n",
    "Se trata de una prueba unitaria.\n",
    "\"\"\"\n",
    "assert sum(1, 2) == 3"
   ]
  },
  {
   "cell_type": "code",
   "execution_count": 4,
   "metadata": {},
   "outputs": [
    {
     "data": {
      "text/plain": [
       "7"
      ]
     },
     "execution_count": 4,
     "metadata": {},
     "output_type": "execute_result"
    }
   ],
   "source": [
    "# Ejemplo:\n",
    "sum(2,5)"
   ]
  },
  {
   "cell_type": "markdown",
   "metadata": {},
   "source": [
    "### Pregunta 2"
   ]
  },
  {
   "cell_type": "code",
   "execution_count": 5,
   "metadata": {},
   "outputs": [],
   "source": [
    "# Crea una función que devuelva una lista resultado de aplicar el valor de la lista inicial multiplicado por si mismo\n",
    "\n",
    "def squared(list):\n",
    "    \"\"\"\n",
    "    Return the squared value of each element of the list\n",
    "    \"\"\"\n",
    "    # YOUR CODE HERE\n",
    "    list = [2, 4, 6]\n",
    "    return [element**2 for element in list]\n",
    "    raise NotImplementedError()"
   ]
  },
  {
   "cell_type": "code",
   "execution_count": 6,
   "metadata": {},
   "outputs": [],
   "source": [
    "\"\"\"\n",
    "Esta es una celda autogradada. Cuando se ejecuta esta celda con la implementación, no debería devolver ningún error. \n",
    "Se trata de una prueba unitaria.\n",
    "\"\"\"\n",
    "assert squared([2, 4, 6]) == [4, 16, 36]"
   ]
  },
  {
   "cell_type": "markdown",
   "metadata": {},
   "source": [
    "### Pregunta 3"
   ]
  },
  {
   "cell_type": "code",
   "execution_count": 7,
   "metadata": {},
   "outputs": [],
   "source": [
    "# Crea una función que verifique que los elementos de una lista son únicos\n",
    "\n",
    "\n",
    "def check_if_unique_elements(list):\n",
    "    \"\"\"\n",
    "    Return True if list of numbers contains only unique numbers, False otherwise.\n",
    "    \"\"\"\n",
    "    # Here, I will help a bit, use a dictionary to store encountered numbers.\n",
    "    if len(list) > len(set(list)):\n",
    "        return False\n",
    "    else:\n",
    "        return True"
   ]
  },
  {
   "cell_type": "code",
   "execution_count": 8,
   "metadata": {},
   "outputs": [],
   "source": [
    "list=[1,2,3,4]\n",
    "assert check_if_unique_elements(list)"
   ]
  },
  {
   "cell_type": "code",
   "execution_count": 9,
   "metadata": {},
   "outputs": [
    {
     "data": {
      "text/plain": [
       "False"
      ]
     },
     "execution_count": 9,
     "metadata": {},
     "output_type": "execute_result"
    }
   ],
   "source": [
    "new_list = [2,2,5,6]\n",
    "check_if_unique_elements(new_list)"
   ]
  }
 ],
 "metadata": {
  "kernelspec": {
   "display_name": "Python 3",
   "language": "python",
   "name": "python3"
  },
  "language_info": {
   "codemirror_mode": {
    "name": "ipython",
    "version": 3
   },
   "file_extension": ".py",
   "mimetype": "text/x-python",
   "name": "python",
   "nbconvert_exporter": "python",
   "pygments_lexer": "ipython3",
   "version": "3.7.1"
  }
 },
 "nbformat": 4,
 "nbformat_minor": 2
}
